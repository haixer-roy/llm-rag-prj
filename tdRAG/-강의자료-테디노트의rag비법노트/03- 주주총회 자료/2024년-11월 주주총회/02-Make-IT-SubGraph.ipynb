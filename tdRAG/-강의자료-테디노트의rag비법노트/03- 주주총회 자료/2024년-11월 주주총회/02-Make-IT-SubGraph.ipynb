{
 "cells": [
  {
   "cell_type": "markdown",
   "metadata": {},
   "source": [
    "## 부탁 드립니다!\n",
    "\n",
    "본 자료는 패스트캠퍼스 RAG 비법노트 강의에서 유료 강의로 제공되는 자료입니다. \n",
    "\n",
    "따라서, 제공된 코드를 사용하여 개발하는 것은 얼마든지 가능합니다만,\n",
    "\n",
    "**제 3자 에게 무단배포, 웹에 소스코드 게재 및 배포는 금지**하고 있다는 점 부디 양해해 주시기 바랍니다.\n",
    "\n",
    "개발 및 학습 목적으로만 활용해 주세요. 많은 도움이 되었으면 좋겠습니다. 늘 감사드립니다."
   ]
  },
  {
   "cell_type": "markdown",
   "metadata": {},
   "source": [
    "## 환경 설정\n"
   ]
  },
  {
   "cell_type": "code",
   "execution_count": 55,
   "metadata": {},
   "outputs": [
    {
     "data": {
      "text/plain": [
       "True"
      ]
     },
     "execution_count": 55,
     "metadata": {},
     "output_type": "execute_result"
    }
   ],
   "source": [
    "from dotenv import load_dotenv\n",
    "\n",
    "load_dotenv()"
   ]
  },
  {
   "cell_type": "code",
   "execution_count": 56,
   "metadata": {},
   "outputs": [
    {
     "name": "stdout",
     "output_type": "stream",
     "text": [
      "LangSmith 추적을 하지 않습니다.\n"
     ]
    }
   ],
   "source": [
    "from langchain_teddynote import logging\n",
    "\n",
    "logging.langsmith(\"TeddyNote-Parser\", set_enable=False)"
   ]
  },
  {
   "cell_type": "markdown",
   "metadata": {},
   "source": [
    "## 이전 단계까지의 내용 재사용"
   ]
  },
  {
   "cell_type": "markdown",
   "metadata": {},
   "source": [
    "### `upstage_parser_graph` 생성\n",
    "\n",
    "- `batch_size`: 한번에 처리할 페이지 수\n",
    "- `test_page`: 테스트할 페이지 번호\n",
    "- `verbose`: 디버깅 메시지 출력 여부\n"
   ]
  },
  {
   "cell_type": "code",
   "execution_count": 57,
   "metadata": {},
   "outputs": [],
   "source": [
    "from layoutparse.teddynote_parser import create_upstage_parser_graph\n",
    "\n",
    "# 그래프 생성\n",
    "upstage_parser_graph = create_upstage_parser_graph(\n",
    "    batch_size=30, test_page=None, verbose=True\n",
    ")"
   ]
  },
  {
   "cell_type": "markdown",
   "metadata": {},
   "source": [
    "### `upstage_parser_graph` 사용\n",
    "\n",
    "- `filepath`: 분석할 PDF 파일의 경로"
   ]
  },
  {
   "cell_type": "code",
   "execution_count": 58,
   "metadata": {},
   "outputs": [
    {
     "name": "stdout",
     "output_type": "stream",
     "text": [
      "[SplitPDFNode] 파일의 전체 페이지 수: 21 Pages.\n",
      "[SplitPDFNode] 분할 PDF 생성: data/argus-bitumen_0000_0020.pdf\n",
      "[DocumentParseNode] Start Parsing: data/argus-bitumen_0000_0020.pdf\n",
      "[DocumentParseNode] Finished Parsing in 19.54 seconds\n",
      "[PostDocumentParseNode] Total Post-processed Elements: 465\n",
      "[PostDocumentParseNode] Total Cost: $0.21\n"
     ]
    }
   ],
   "source": [
    "import uuid\n",
    "from langchain_core.runnables import RunnableConfig\n",
    "from langchain_teddynote.messages import stream_graph\n",
    "\n",
    "# 옵션 설정\n",
    "config = RunnableConfig(\n",
    "    recursion_limit=300,\n",
    "    configurable={\"thread_id\": str(uuid.uuid4())},\n",
    ")\n",
    "\n",
    "# filepath: 분석할 PDF 파일의 경로\n",
    "inputs = {\n",
    "    \"filepath\": \"data/argus-bitumen.pdf\",\n",
    "}\n",
    "\n",
    "stream_graph(upstage_parser_graph, inputs, config=config)"
   ]
  },
  {
   "cell_type": "code",
   "execution_count": 59,
   "metadata": {},
   "outputs": [
    {
     "data": {
      "text/plain": [
       "[{'category': 'paragraph',\n",
       "  'content': {'html': \"<br><p id='445' data-category='paragraph' style='font-size:14px'>ARGUS, the ARGUS logo, ARGUS MEDIA, INTEGER,<br>ARGUS BITUMEN , other ARGUS publication titles<br>and ARGUS index names are trademarks of Argus<br>Media Limited.<br>Visit www.argusmedia.com/Ft/trademarks for<br>more information.</p>\",\n",
       "   'markdown': 'ARGUS, the ARGUS logo, ARGUS MEDIA, INTEGER,\\nARGUS BITUMEN , other ARGUS publication titles\\nand ARGUS index names are trademarks of Argus\\nMedia Limited.\\nVisit www.argusmedia.com/Ft/trademarks for\\nmore information.',\n",
       "   'text': 'ARGUS, the ARGUS logo, ARGUS MEDIA, INTEGER,\\nARGUS BITUMEN , other ARGUS publication titles\\nand ARGUS index names are trademarks of Argus\\nMedia Limited.\\nVisit www.argusmedia.com/Ft/trademarks for\\nmore information.'},\n",
       "  'coordinates': [{'x': 0.35, 'y': 0.6126},\n",
       "   {'x': 0.5765, 'y': 0.6126},\n",
       "   {'x': 0.5765, 'y': 0.67},\n",
       "   {'x': 0.35, 'y': 0.67}],\n",
       "  'id': 445,\n",
       "  'page': 20},\n",
       " {'category': 'paragraph',\n",
       "  'content': {'html': \"<p id='446' data-category='paragraph' style='font-size:14px'>Disclaimer</p>\",\n",
       "   'markdown': 'Disclaimer',\n",
       "   'text': 'Disclaimer'},\n",
       "  'coordinates': [{'x': 0.351, 'y': 0.6797},\n",
       "   {'x': 0.4022, 'y': 0.6797},\n",
       "   {'x': 0.4022, 'y': 0.6881},\n",
       "   {'x': 0.351, 'y': 0.6881}],\n",
       "  'id': 446,\n",
       "  'page': 20},\n",
       " {'category': 'paragraph',\n",
       "  'content': {'html': \"<br><p id='447' data-category='paragraph' style='font-size:14px'>The data and other information published herein<br>(the “Data”) are provided on an “as is” basis.<br>Argus and its licensors (including exchanges)<br>make no warranties, express or implied, as to the<br>accuracy, adequacy, timeliness, or completeness<br>of the Data or fitness for any particular purpose.<br>Argus and its licensors (including exchanges) shall<br>not be liable for any loss, claims or damage arising<br>from any party’s reliance on the Data and disclaim<br>any and all liability related to or arising out of use<br>of the Data to the full extent permissible by law.</p>\",\n",
       "   'markdown': 'The data and other information published herein\\n(the “Data”) are provided on an “as is” basis.\\nArgus and its licensors (including exchanges)\\nmake no warranties, express or implied, as to the\\naccuracy, adequacy, timeliness, or completeness\\nof the Data or fitness for any particular purpose.\\nArgus and its licensors (including exchanges) shall\\nnot be liable for any loss, claims or damage arising\\nfrom any party’s reliance on the Data and disclaim\\nany and all liability related to or arising out of use\\nof the Data to the full extent permissible by law.',\n",
       "   'text': 'The data and other information published herein\\n(the “Data”) are provided on an “as is” basis.\\nArgus and its licensors (including exchanges)\\nmake no warranties, express or implied, as to the\\naccuracy, adequacy, timeliness, or completeness\\nof the Data or fitness for any particular purpose.\\nArgus and its licensors (including exchanges) shall\\nnot be liable for any loss, claims or damage arising\\nfrom any party’s reliance on the Data and disclaim\\nany and all liability related to or arising out of use\\nof the Data to the full extent permissible by law.'},\n",
       "  'coordinates': [{'x': 0.3496, 'y': 0.6874},\n",
       "   {'x': 0.5816, 'y': 0.6874},\n",
       "   {'x': 0.5816, 'y': 0.7875},\n",
       "   {'x': 0.3496, 'y': 0.7875}],\n",
       "  'id': 447,\n",
       "  'page': 20},\n",
       " {'category': 'paragraph',\n",
       "  'content': {'html': \"<br><p id='448' data-category='paragraph' style='font-size:14px'>Publisher<br>Adrian Binks</p>\",\n",
       "   'markdown': 'Publisher\\nAdrian Binks',\n",
       "   'text': 'Publisher\\nAdrian Binks'},\n",
       "  'coordinates': [{'x': 0.6162, 'y': 0.6085},\n",
       "   {'x': 0.6767, 'y': 0.6085},\n",
       "   {'x': 0.6767, 'y': 0.625},\n",
       "   {'x': 0.6162, 'y': 0.625}],\n",
       "  'id': 448,\n",
       "  'page': 20},\n",
       " {'category': 'paragraph',\n",
       "  'content': {'html': \"<br><p id='449' data-category='paragraph' style='font-size:14px'>Chief operating officer<br>Matthew Burkley</p>\",\n",
       "   'markdown': 'Chief operating officer\\nMatthew Burkley',\n",
       "   'text': 'Chief operating officer\\nMatthew Burkley'},\n",
       "  'coordinates': [{'x': 0.6172, 'y': 0.631},\n",
       "   {'x': 0.7306, 'y': 0.631},\n",
       "   {'x': 0.7306, 'y': 0.6479},\n",
       "   {'x': 0.6172, 'y': 0.6479}],\n",
       "  'id': 449,\n",
       "  'page': 20},\n",
       " {'category': 'paragraph',\n",
       "  'content': {'html': \"<p id='450' data-category='paragraph' style='font-size:14px'>All personal contact information is held and used<br>in accordance with Argus Media’s Privacy Policy<br>https://www.argusmedia.com/en/privacy-policy</p>\",\n",
       "   'markdown': 'All personal contact information is held and used\\nin accordance with Argus Media’s Privacy Policy\\nhttps://www.argusmedia.com/en/privacy-policy',\n",
       "   'text': 'All personal contact information is held and used\\nin accordance with Argus Media’s Privacy Policy\\nhttps://www.argusmedia.com/en/privacy-policy'},\n",
       "  'coordinates': [{'x': 0.3506, 'y': 0.796},\n",
       "   {'x': 0.5753, 'y': 0.796},\n",
       "   {'x': 0.5753, 'y': 0.8239},\n",
       "   {'x': 0.3506, 'y': 0.8239}],\n",
       "  'id': 450,\n",
       "  'page': 20},\n",
       " {'category': 'paragraph',\n",
       "  'content': {'html': \"<br><p id='451' data-category='paragraph' style='font-size:14px'>Customer support and sales:</p>\",\n",
       "   'markdown': 'Customer support and sales:',\n",
       "   'text': 'Customer support and sales:'},\n",
       "  'coordinates': [{'x': 0.7796, 'y': 0.6086},\n",
       "   {'x': 0.917, 'y': 0.6086},\n",
       "   {'x': 0.917, 'y': 0.6178},\n",
       "   {'x': 0.7796, 'y': 0.6178}],\n",
       "  'id': 451,\n",
       "  'page': 20},\n",
       " {'category': 'heading1',\n",
       "  'content': {'html': \"<h1 id='452' style='font-size:22px'>Petroleum</h1>\",\n",
       "   'markdown': '# Petroleum',\n",
       "   'text': 'Petroleum'},\n",
       "  'coordinates': [{'x': 0.0739, 'y': 0.8673},\n",
       "   {'x': 0.2098, 'y': 0.8673},\n",
       "   {'x': 0.2098, 'y': 0.8895},\n",
       "   {'x': 0.0739, 'y': 0.8895}],\n",
       "  'id': 452,\n",
       "  'page': 20},\n",
       " {'category': 'paragraph',\n",
       "  'content': {'html': \"<br><p id='453' data-category='paragraph' style='font-size:14px'>support@argusmedia.com<br>sales@argusmedia.com</p>\",\n",
       "   'markdown': 'support@argusmedia.com\\nsales@argusmedia.com',\n",
       "   'text': 'support@argusmedia.com\\nsales@argusmedia.com'},\n",
       "  'coordinates': [{'x': 0.7793, 'y': 0.6277},\n",
       "   {'x': 0.8983, 'y': 0.6277},\n",
       "   {'x': 0.8983, 'y': 0.6486},\n",
       "   {'x': 0.7793, 'y': 0.6486}],\n",
       "  'id': 453,\n",
       "  'page': 20},\n",
       " {'category': 'paragraph',\n",
       "  'content': {'html': \"<br><p id='454' data-category='paragraph' style='font-size:14px'>Global compliance officer<br>Vladas Stankevicius</p>\",\n",
       "   'markdown': 'Global compliance officer\\nVladas Stankevicius',\n",
       "   'text': 'Global compliance officer\\nVladas Stankevicius'},\n",
       "  'coordinates': [{'x': 0.6171, 'y': 0.6544},\n",
       "   {'x': 0.742, 'y': 0.6544},\n",
       "   {'x': 0.742, 'y': 0.6704},\n",
       "   {'x': 0.6171, 'y': 0.6704}],\n",
       "  'id': 454,\n",
       "  'page': 20},\n",
       " {'category': 'paragraph',\n",
       "  'content': {'html': \"<br><p id='455' data-category='paragraph' style='font-size:14px'>Chief commercial officer<br>Jo Loudiadis</p>\",\n",
       "   'markdown': 'Chief commercial officer\\nJo Loudiadis',\n",
       "   'text': 'Chief commercial officer\\nJo Loudiadis'},\n",
       "  'coordinates': [{'x': 0.6177, 'y': 0.6764},\n",
       "   {'x': 0.7396, 'y': 0.6764},\n",
       "   {'x': 0.7396, 'y': 0.694},\n",
       "   {'x': 0.6177, 'y': 0.694}],\n",
       "  'id': 455,\n",
       "  'page': 20},\n",
       " {'category': 'paragraph',\n",
       "  'content': {'html': \"<br><p id='456' data-category='paragraph' style='font-size:14px'>London, Tel: +44 20 7780 4200<br>Houston, Tel: +1 713 968 0000<br>Singapore, Tel: +65 6496 9966</p>\",\n",
       "   'markdown': 'London, Tel: +44 20 7780 4200\\nHouston, Tel: +1 713 968 0000\\nSingapore, Tel: +65 6496 9966',\n",
       "   'text': 'London, Tel: +44 20 7780 4200\\nHouston, Tel: +1 713 968 0000\\nSingapore, Tel: +65 6496 9966'},\n",
       "  'coordinates': [{'x': 0.7788, 'y': 0.6611},\n",
       "   {'x': 0.9253, 'y': 0.6611},\n",
       "   {'x': 0.9253, 'y': 0.6972},\n",
       "   {'x': 0.7788, 'y': 0.6972}],\n",
       "  'id': 456,\n",
       "  'page': 20},\n",
       " {'category': 'paragraph',\n",
       "  'content': {'html': \"<br><p id='457' data-category='paragraph' style='font-size:14px'>President, Oil<br>Euan Craik</p>\",\n",
       "   'markdown': 'President, Oil\\nEuan Craik',\n",
       "   'text': 'President, Oil\\nEuan Craik'},\n",
       "  'coordinates': [{'x': 0.6172, 'y': 0.6988},\n",
       "   {'x': 0.6881, 'y': 0.6988},\n",
       "   {'x': 0.6881, 'y': 0.716},\n",
       "   {'x': 0.6172, 'y': 0.716}],\n",
       "  'id': 457,\n",
       "  'page': 20},\n",
       " {'category': 'paragraph',\n",
       "  'content': {'html': \"<br><p id='458' data-category='paragraph' style='font-size:14px'>Global head of editorial<br>Neil Fleming</p>\",\n",
       "   'markdown': 'Global head of editorial\\nNeil Fleming',\n",
       "   'text': 'Global head of editorial\\nNeil Fleming'},\n",
       "  'coordinates': [{'x': 0.6172, 'y': 0.722},\n",
       "   {'x': 0.7356, 'y': 0.722},\n",
       "   {'x': 0.7356, 'y': 0.7397},\n",
       "   {'x': 0.6172, 'y': 0.7397}],\n",
       "  'id': 458,\n",
       "  'page': 20},\n",
       " {'category': 'paragraph',\n",
       "  'content': {'html': \"<br><p id='459' data-category='paragraph' style='font-size:14px'>Editor in chief<br>Jim Washer</p>\",\n",
       "   'markdown': 'Editor in chief\\nJim Washer',\n",
       "   'text': 'Editor in chief\\nJim Washer'},\n",
       "  'coordinates': [{'x': 0.6171, 'y': 0.7451},\n",
       "   {'x': 0.6905, 'y': 0.7451},\n",
       "   {'x': 0.6905, 'y': 0.7621},\n",
       "   {'x': 0.6171, 'y': 0.7621}],\n",
       "  'id': 459,\n",
       "  'page': 20},\n",
       " {'category': 'paragraph',\n",
       "  'content': {'html': \"<br><p id='460' data-category='paragraph' style='font-size:14px'>Managing editor<br>Andrew Bonnington</p>\",\n",
       "   'markdown': 'Managing editor\\nAndrew Bonnington',\n",
       "   'text': 'Managing editor\\nAndrew Bonnington'},\n",
       "  'coordinates': [{'x': 0.6167, 'y': 0.7681},\n",
       "   {'x': 0.7101, 'y': 0.7681},\n",
       "   {'x': 0.7101, 'y': 0.7858},\n",
       "   {'x': 0.6167, 'y': 0.7858}],\n",
       "  'id': 460,\n",
       "  'page': 20},\n",
       " {'category': 'paragraph',\n",
       "  'content': {'html': \"<br><p id='461' data-category='paragraph' style='font-size:14px'>Editor<br>Jonathan Weston<br>Tel: +44 (0) 20 4570 1230<br>bitumen@argusmedia.com</p>\",\n",
       "   'markdown': 'Editor\\nJonathan Weston\\nTel: +44 (0) 20 4570 1230\\nbitumen@argusmedia.com',\n",
       "   'text': 'Editor\\nJonathan Weston\\nTel: +44 (0) 20 4570 1230\\nbitumen@argusmedia.com'},\n",
       "  'coordinates': [{'x': 0.6181, 'y': 0.792},\n",
       "   {'x': 0.741, 'y': 0.792},\n",
       "   {'x': 0.741, 'y': 0.8227},\n",
       "   {'x': 0.6181, 'y': 0.8227}],\n",
       "  'id': 461,\n",
       "  'page': 20},\n",
       " {'category': 'heading1',\n",
       "  'content': {'html': \"<h1 id='462' style='font-size:20px'>illuminating the markets®</h1>\",\n",
       "   'markdown': '# illuminating the markets®',\n",
       "   'text': 'illuminating the markets®'},\n",
       "  'coordinates': [{'x': 0.0737, 'y': 0.902},\n",
       "   {'x': 0.3977, 'y': 0.902},\n",
       "   {'x': 0.3977, 'y': 0.9242},\n",
       "   {'x': 0.0737, 'y': 0.9242}],\n",
       "  'id': 462,\n",
       "  'page': 20},\n",
       " {'category': 'paragraph',\n",
       "  'content': {'html': \"<br><p id='463' data-category='paragraph' style='font-size:14px'>.</p>\",\n",
       "   'markdown': '.',\n",
       "   'text': '.'},\n",
       "  'coordinates': [{'x': 0.5203, 'y': 0.9072},\n",
       "   {'x': 0.5262, 'y': 0.9072},\n",
       "   {'x': 0.5262, 'y': 0.9174},\n",
       "   {'x': 0.5203, 'y': 0.9174}],\n",
       "  'id': 463,\n",
       "  'page': 20},\n",
       " {'category': 'footer',\n",
       "  'content': {'html': \"<footer id='464' style='font-size:14px'>Licensed to: Neil Whiting, Argus Media Limited (London)</footer>\",\n",
       "   'markdown': 'Licensed to: Neil Whiting, Argus Media Limited (London)',\n",
       "   'text': 'Licensed to: Neil Whiting, Argus Media Limited (London)'},\n",
       "  'coordinates': [{'x': 0.0722, 'y': 0.9549},\n",
       "   {'x': 0.4167, 'y': 0.9549},\n",
       "   {'x': 0.4167, 'y': 0.9685},\n",
       "   {'x': 0.0722, 'y': 0.9685}],\n",
       "  'id': 464,\n",
       "  'page': 20}]"
      ]
     },
     "execution_count": 59,
     "metadata": {},
     "output_type": "execute_result"
    }
   ],
   "source": [
    "# 추출된 요소들을 확인합니다\n",
    "elements = upstage_parser_graph.get_state(config).values[\"elements_from_parser\"]\n",
    "elements[-20:]"
   ]
  },
  {
   "cell_type": "markdown",
   "metadata": {},
   "source": [
    "## Export 처리 로직 구성\n",
    "\n",
    "이전 단계의 State 를 재사용하기 때문에 **모듈 단위로 이어서 개발하기가 용이**합니다."
   ]
  },
  {
   "cell_type": "code",
   "execution_count": 60,
   "metadata": {},
   "outputs": [],
   "source": [
    "from langgraph.graph import StateGraph, END\n",
    "from layoutparse.state import ParseState\n",
    "import layoutparse.export as export\n",
    "from langchain_teddynote.graphs import visualize_graph\n",
    "\n",
    "\n",
    "def create_export_graph(\n",
    "    ignore_new_line_in_text=True,\n",
    "    show_image_in_markdown=False,\n",
    "    verbose=True,\n",
    "    visualize=False,\n",
    "):\n",
    "    \"\"\"\n",
    "    문서 내보내기를 위한 그래프를 생성하는 함수입니다.\n",
    "\n",
    "    Args:\n",
    "        ignore_new_line_in_text (bool): 텍스트에서 줄바꿈을 무시할지 여부\n",
    "        show_image_in_markdown (bool): 마크다운에 이미지를 표시할지 여부\n",
    "        verbose (bool): 상세 로그를 출력할지 여부\n",
    "        visualize (bool): 그래프를 시각화할지 여부\n",
    "\n",
    "    Returns:\n",
    "        StateGraph: 컴파일된 내보내기 그래프\n",
    "    \"\"\"\n",
    "    # 후처리 워크플로우를 생성합니다\n",
    "    export_workflow = StateGraph(ParseState)\n",
    "\n",
    "    # 이미지 내보내기 노드를 생성합니다\n",
    "    export_image = export.ExportImage(verbose=verbose)\n",
    "    # HTML 내보내기 노드를 생성합니다\n",
    "    export_html = export.ExportHTML(\n",
    "        ignore_new_line_in_text=ignore_new_line_in_text, verbose=verbose\n",
    "    )\n",
    "    # 마크다운 내보내기 노드를 생성합니다\n",
    "    export_markdown = export.ExportMarkdown(\n",
    "        ignore_new_line_in_text=ignore_new_line_in_text,\n",
    "        show_image=show_image_in_markdown,\n",
    "        verbose=verbose,\n",
    "    )\n",
    "    # CSV 테이블 내보내기 노드를 생성합니다\n",
    "    export_table_csv = export.ExportTableCSV(verbose=verbose)\n",
    "\n",
    "    # 각 내보내기 노드를 워크플로우에 추가합니다\n",
    "    export_workflow.add_node(\"export_image\", export_image)\n",
    "    export_workflow.add_node(\"export_html\", export_html)\n",
    "    export_workflow.add_node(\"export_markdown\", export_markdown)\n",
    "    export_workflow.add_node(\"export_table_to_csv\", export_table_csv)\n",
    "\n",
    "    # 이미지 노드에서 다른 노드로의 연결을 설정합니다\n",
    "    export_workflow.add_edge(\"export_image\", \"export_html\")\n",
    "    export_workflow.add_edge(\"export_image\", \"export_markdown\")\n",
    "    export_workflow.add_edge(\"export_image\", \"export_table_to_csv\")\n",
    "\n",
    "    # 각 노드에서 종료 지점으로의 연결을 설정합니다\n",
    "    export_workflow.add_edge(\"export_html\", END)\n",
    "    export_workflow.add_edge(\"export_markdown\", END)\n",
    "    export_workflow.add_edge(\"export_table_to_csv\", END)\n",
    "\n",
    "    # 워크플로우의 시작점을 이미지 내보내기로 설정합니다\n",
    "    export_workflow.set_entry_point(\"export_image\")\n",
    "\n",
    "    # 워크플로우를 컴파일하고 필요시 시각화합니다\n",
    "    export_graph = export_workflow.compile()\n",
    "    if visualize:\n",
    "        visualize_graph(export_graph)\n",
    "    return export_graph"
   ]
  },
  {
   "cell_type": "code",
   "execution_count": 61,
   "metadata": {},
   "outputs": [
    {
     "data": {
      "image/jpeg": "[encoded data removed]",
      "text/plain": [
       "<IPython.core.display.Image object>"
      ]
     },
     "metadata": {},
     "output_type": "display_data"
    }
   ],
   "source": [
    "# export 그래프를 생성합니다\n",
    "export_graph = create_export_graph(show_image_in_markdown=True, visualize=True)"
   ]
  },
  {
   "cell_type": "code",
   "execution_count": 62,
   "metadata": {},
   "outputs": [],
   "source": [
    "# 이전 단계의 State 를 조회합니다\n",
    "previous_state = upstage_parser_graph.get_state(config).values"
   ]
  },
  {
   "cell_type": "code",
   "execution_count": 63,
   "metadata": {},
   "outputs": [],
   "source": [
    "# 이전 단계의 State 를 복사합니다\n",
    "inputs = previous_state.copy()\n",
    "\n",
    "# 그래프를 실행합니다\n",
    "stream_graph(export_graph, inputs, config=config)"
   ]
  },
  {
   "cell_type": "markdown",
   "metadata": {},
   "source": [
    "## Parent Graph 구성"
   ]
  },
  {
   "cell_type": "code",
   "execution_count": 65,
   "metadata": {},
   "outputs": [
    {
     "data": {
      "image/jpeg": "[encoded data removed]",
      "text/plain": [
       "<IPython.core.display.Image object>"
      ]
     },
     "metadata": {},
     "output_type": "display_data"
    }
   ],
   "source": [
    "# 체크포인트 저장을 위한 MemorySaver를 임포트합니다\n",
    "from langgraph.checkpoint.memory import MemorySaver\n",
    "\n",
    "\"\"\"\n",
    "전체 문서 처리 워크플로우를 구성하는 부분입니다.\n",
    "업스테이지 파서와 내보내기 기능을 연결하여 하나의 그래프로 만듭니다.\n",
    "\"\"\"\n",
    "\n",
    "# StateGraph를 사용하여 전체 워크플로우의 뼈대를 생성합니다\n",
    "parent_workflow = StateGraph(ParseState)\n",
    "\n",
    "# 업스테이지 파서 노드를 워크플로우에 추가합니다 - PDF 파싱을 담당합니다\n",
    "parent_workflow.add_node(\"upstage_parser\", upstage_parser_graph)\n",
    "# 내보내기 노드를 워크플로우에 추가합니다 - 파싱된 결과를 다양한 형식으로 저장합니다\n",
    "parent_workflow.add_node(\"export_output\", export_graph)\n",
    "\n",
    "# 파서에서 내보내기로 데이터가 흐르도록 엣지를 연결합니다\n",
    "parent_workflow.add_edge(\"upstage_parser\", \"export_output\")\n",
    "\n",
    "# 워크플로우의 시작점을 파서로 지정합니다\n",
    "parent_workflow.set_entry_point(\"upstage_parser\")\n",
    "\n",
    "# 메모리 체크포인터를 사용하여 워크플로우를 컴파일합니다\n",
    "parent_graph = parent_workflow.compile(checkpointer=MemorySaver())\n",
    "\n",
    "# 생성된 그래프를 시각화하여 확인합니다 (xray 옵션으로 상세 정보 표시)\n",
    "visualize_graph(parent_graph, xray=True)"
   ]
  },
  {
   "cell_type": "code",
   "execution_count": 66,
   "metadata": {},
   "outputs": [
    {
     "name": "stdout",
     "output_type": "stream",
     "text": [
      "[SplitPDFNode] 파일의 전체 페이지 수: 21 Pages.\n",
      "[SplitPDFNode] 분할 PDF 생성: data/argus-bitumen_0000_0020.pdf\n",
      "[DocumentParseNode] Start Parsing: data/argus-bitumen_0000_0020.pdf\n",
      "[DocumentParseNode] Finished Parsing in 22.36 seconds\n",
      "[PostDocumentParseNode] Total Post-processed Elements: 465\n",
      "[PostDocumentParseNode] Total Cost: $0.21\n",
      "[ExportMarkdown] 마크다운 파일이 성공적으로 생성되었습니다: /Users/teddy/Dev/github/teddynote-parser-v2/data/argus-bitumen.md\n",
      "[ExportHTML] HTML 파일이 성공적으로 생성되었습니다: data/argus-bitumen.html\n",
      "[ExportTableCSV] CSV 파일이 성공적으로 생성되었습니다: /Users/teddy/Dev/github/teddynote-parser-v2/data/tables/ARGUS-BITUMEN_TABLE_Page_0_Index_10.csv\n",
      "[ExportTableCSV] CSV 파일이 성공적으로 생성되었습니다: /Users/teddy/Dev/github/teddynote-parser-v2/data/tables/ARGUS-BITUMEN_TABLE_Page_0_Index_14.csv\n",
      "[ExportTableCSV] CSV 파일이 성공적으로 생성되었습니다: /Users/teddy/Dev/github/teddynote-parser-v2/data/tables/ARGUS-BITUMEN_TABLE_Page_1_Index_26.csv\n",
      "[ExportTableCSV] CSV 파일이 성공적으로 생성되었습니다: /Users/teddy/Dev/github/teddynote-parser-v2/data/tables/ARGUS-BITUMEN_TABLE_Page_1_Index_29.csv\n",
      "[ExportTableCSV] CSV 파일이 성공적으로 생성되었습니다: /Users/teddy/Dev/github/teddynote-parser-v2/data/tables/ARGUS-BITUMEN_TABLE_Page_2_Index_47.csv\n",
      "[ExportTableCSV] CSV 파일이 성공적으로 생성되었습니다: /Users/teddy/Dev/github/teddynote-parser-v2/data/tables/ARGUS-BITUMEN_TABLE_Page_2_Index_51.csv\n",
      "[ExportTableCSV] CSV 파일이 성공적으로 생성되었습니다: /Users/teddy/Dev/github/teddynote-parser-v2/data/tables/ARGUS-BITUMEN_TABLE_Page_2_Index_52.csv\n",
      "[ExportTableCSV] CSV 파일이 성공적으로 생성되었습니다: /Users/teddy/Dev/github/teddynote-parser-v2/data/tables/ARGUS-BITUMEN_TABLE_Page_5_Index_122.csv\n",
      "[ExportTableCSV] CSV 파일이 성공적으로 생성되었습니다: /Users/teddy/Dev/github/teddynote-parser-v2/data/tables/ARGUS-BITUMEN_TABLE_Page_5_Index_124.csv\n",
      "[ExportTableCSV] CSV 파일이 성공적으로 생성되었습니다: /Users/teddy/Dev/github/teddynote-parser-v2/data/tables/ARGUS-BITUMEN_TABLE_Page_5_Index_126.csv\n",
      "[ExportTableCSV] CSV 파일이 성공적으로 생성되었습니다: /Users/teddy/Dev/github/teddynote-parser-v2/data/tables/ARGUS-BITUMEN_TABLE_Page_5_Index_127.csv\n",
      "[ExportTableCSV] CSV 파일이 성공적으로 생성되었습니다: /Users/teddy/Dev/github/teddynote-parser-v2/data/tables/ARGUS-BITUMEN_TABLE_Page_8_Index_187.csv\n",
      "[ExportTableCSV] CSV 파일이 성공적으로 생성되었습니다: /Users/teddy/Dev/github/teddynote-parser-v2/data/tables/ARGUS-BITUMEN_TABLE_Page_8_Index_188.csv\n",
      "[ExportTableCSV] CSV 파일이 성공적으로 생성되었습니다: /Users/teddy/Dev/github/teddynote-parser-v2/data/tables/ARGUS-BITUMEN_TABLE_Page_11_Index_244.csv\n",
      "[ExportTableCSV] CSV 파일이 성공적으로 생성되었습니다: /Users/teddy/Dev/github/teddynote-parser-v2/data/tables/ARGUS-BITUMEN_TABLE_Page_11_Index_248.csv\n",
      "[ExportTableCSV] CSV 파일이 성공적으로 생성되었습니다: /Users/teddy/Dev/github/teddynote-parser-v2/data/tables/ARGUS-BITUMEN_TABLE_Page_12_Index_263.csv\n",
      "[ExportTableCSV] CSV 파일이 성공적으로 생성되었습니다: /Users/teddy/Dev/github/teddynote-parser-v2/data/tables/ARGUS-BITUMEN_TABLE_Page_13_Index_289.csv\n",
      "[ExportTableCSV] CSV 파일이 성공적으로 생성되었습니다: /Users/teddy/Dev/github/teddynote-parser-v2/data/tables/ARGUS-BITUMEN_TABLE_Page_13_Index_290.csv\n",
      "[ExportTableCSV] CSV 파일이 성공적으로 생성되었습니다: /Users/teddy/Dev/github/teddynote-parser-v2/data/tables/ARGUS-BITUMEN_TABLE_Page_14_Index_301.csv\n",
      "[ExportTableCSV] CSV 파일이 성공적으로 생성되었습니다: /Users/teddy/Dev/github/teddynote-parser-v2/data/tables/ARGUS-BITUMEN_TABLE_Page_15_Index_337.csv\n",
      "[ExportTableCSV] CSV 파일이 성공적으로 생성되었습니다: /Users/teddy/Dev/github/teddynote-parser-v2/data/tables/ARGUS-BITUMEN_TABLE_Page_15_Index_339.csv\n",
      "[ExportTableCSV] CSV 파일이 성공적으로 생성되었습니다: /Users/teddy/Dev/github/teddynote-parser-v2/data/tables/ARGUS-BITUMEN_TABLE_Page_16_Index_349.csv\n",
      "[ExportTableCSV] CSV 파일이 성공적으로 생성되었습니다: /Users/teddy/Dev/github/teddynote-parser-v2/data/tables/ARGUS-BITUMEN_TABLE_Page_20_Index_438.csv\n"
     ]
    }
   ],
   "source": [
    "import uuid\n",
    "from langchain_core.runnables import RunnableConfig\n",
    "from langchain_teddynote.messages import stream_graph\n",
    "\n",
    "# 옵션 설정\n",
    "config = RunnableConfig(\n",
    "    recursion_limit=300,\n",
    "    configurable={\"thread_id\": str(uuid.uuid4())},\n",
    ")\n",
    "\n",
    "# filepath: 분석할 PDF 파일의 경로\n",
    "inputs = {\n",
    "    \"filepath\": \"data/argus-bitumen.pdf\",\n",
    "}\n",
    "\n",
    "# 그래프를 실행합니다\n",
    "stream_graph(parent_graph, inputs, config=config)"
   ]
  },
  {
   "cell_type": "code",
   "execution_count": 67,
   "metadata": {},
   "outputs": [],
   "source": [
    "# 추출된 요소들을 확인합니다\n",
    "snapshot = parent_graph.get_state(config).values\n",
    "snapshot[\"elements_from_parser\"]"
   ]
  }
 ],
 "metadata": {
  "kernelspec": {
   "display_name": "teddynote-parser-OefEGAuL-py3.11",
   "language": "python",
   "name": "python3"
  },
  "language_info": {
   "codemirror_mode": {
    "name": "ipython",
    "version": 3
   },
   "file_extension": ".py",
   "mimetype": "text/x-python",
   "name": "python",
   "nbconvert_exporter": "python",
   "pygments_lexer": "ipython3",
   "version": "3.11.9"
  }
 },
 "nbformat": 4,
 "nbformat_minor": 2
}
